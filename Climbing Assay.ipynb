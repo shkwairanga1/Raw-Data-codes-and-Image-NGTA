{
 "cells": [
  {
   "cell_type": "code",
   "execution_count": 3,
   "id": "6208b08f",
   "metadata": {},
   "outputs": [],
   "source": [
    "#Packages Import\n",
    "import pandas as pd\n",
    "import matplotlib.pyplot as plt\n",
    "import mapclassify as mc\n",
    "import seaborn as sns\n",
    "import numpy as np\n",
    "import researchpy as rp\n",
    "from scipy import stats\n",
    "from scipy.stats import shapiro\n",
    "from pingouin import kruskal\n",
    "import scikit_posthocs as sp\n",
    "import pingouin as pg\n",
    "import statsmodels.stats.multicomp as mc"
   ]
  },
  {
   "cell_type": "code",
   "execution_count": 4,
   "id": "f8288259",
   "metadata": {},
   "outputs": [
    {
     "data": {
      "text/html": [
       "<div>\n",
       "<style scoped>\n",
       "    .dataframe tbody tr th:only-of-type {\n",
       "        vertical-align: middle;\n",
       "    }\n",
       "\n",
       "    .dataframe tbody tr th {\n",
       "        vertical-align: top;\n",
       "    }\n",
       "\n",
       "    .dataframe thead th {\n",
       "        text-align: right;\n",
       "    }\n",
       "</style>\n",
       "<table border=\"1\" class=\"dataframe\">\n",
       "  <thead>\n",
       "    <tr style=\"text-align: right;\">\n",
       "      <th></th>\n",
       "      <th>Group</th>\n",
       "      <th>N_bot</th>\n",
       "      <th>N_mid</th>\n",
       "      <th>N_top</th>\n",
       "    </tr>\n",
       "  </thead>\n",
       "  <tbody>\n",
       "    <tr>\n",
       "      <th>0</th>\n",
       "      <td>Group I</td>\n",
       "      <td>0</td>\n",
       "      <td>1</td>\n",
       "      <td>9</td>\n",
       "    </tr>\n",
       "    <tr>\n",
       "      <th>1</th>\n",
       "      <td>Group I</td>\n",
       "      <td>0</td>\n",
       "      <td>0</td>\n",
       "      <td>10</td>\n",
       "    </tr>\n",
       "    <tr>\n",
       "      <th>2</th>\n",
       "      <td>Group I</td>\n",
       "      <td>0</td>\n",
       "      <td>2</td>\n",
       "      <td>8</td>\n",
       "    </tr>\n",
       "    <tr>\n",
       "      <th>3</th>\n",
       "      <td>Group I</td>\n",
       "      <td>0</td>\n",
       "      <td>2</td>\n",
       "      <td>8</td>\n",
       "    </tr>\n",
       "    <tr>\n",
       "      <th>4</th>\n",
       "      <td>Group II</td>\n",
       "      <td>0</td>\n",
       "      <td>4</td>\n",
       "      <td>6</td>\n",
       "    </tr>\n",
       "  </tbody>\n",
       "</table>\n",
       "</div>"
      ],
      "text/plain": [
       "      Group  N_bot  N_mid  N_top\n",
       "0   Group I      0      1      9\n",
       "1   Group I      0      0     10\n",
       "2   Group I      0      2      8\n",
       "3   Group I      0      2      8\n",
       "4  Group II      0      4      6"
      ]
     },
     "execution_count": 4,
     "metadata": {},
     "output_type": "execute_result"
    }
   ],
   "source": [
    "##data upload for climbing assay\n",
    "df1 = pd.read_csv('climbing_assay.csv', encoding=\"latin-1\")\n",
    "df1.head()"
   ]
  },
  {
   "cell_type": "code",
   "execution_count": 5,
   "id": "4fb50c9a",
   "metadata": {},
   "outputs": [
    {
     "data": {
      "text/html": [
       "<div>\n",
       "<style scoped>\n",
       "    .dataframe tbody tr th:only-of-type {\n",
       "        vertical-align: middle;\n",
       "    }\n",
       "\n",
       "    .dataframe tbody tr th {\n",
       "        vertical-align: top;\n",
       "    }\n",
       "\n",
       "    .dataframe thead th {\n",
       "        text-align: right;\n",
       "    }\n",
       "</style>\n",
       "<table border=\"1\" class=\"dataframe\">\n",
       "  <thead>\n",
       "    <tr style=\"text-align: right;\">\n",
       "      <th></th>\n",
       "      <th>Group</th>\n",
       "      <th>N_bot</th>\n",
       "      <th>N_mid</th>\n",
       "      <th>N_top</th>\n",
       "      <th>N_tot</th>\n",
       "      <th>PI_</th>\n",
       "    </tr>\n",
       "  </thead>\n",
       "  <tbody>\n",
       "    <tr>\n",
       "      <th>0</th>\n",
       "      <td>Group I</td>\n",
       "      <td>0</td>\n",
       "      <td>1</td>\n",
       "      <td>9</td>\n",
       "      <td>10</td>\n",
       "      <td>0.95</td>\n",
       "    </tr>\n",
       "    <tr>\n",
       "      <th>1</th>\n",
       "      <td>Group I</td>\n",
       "      <td>0</td>\n",
       "      <td>0</td>\n",
       "      <td>10</td>\n",
       "      <td>10</td>\n",
       "      <td>1.00</td>\n",
       "    </tr>\n",
       "    <tr>\n",
       "      <th>2</th>\n",
       "      <td>Group I</td>\n",
       "      <td>0</td>\n",
       "      <td>2</td>\n",
       "      <td>8</td>\n",
       "      <td>10</td>\n",
       "      <td>0.90</td>\n",
       "    </tr>\n",
       "    <tr>\n",
       "      <th>3</th>\n",
       "      <td>Group I</td>\n",
       "      <td>0</td>\n",
       "      <td>2</td>\n",
       "      <td>8</td>\n",
       "      <td>10</td>\n",
       "      <td>0.90</td>\n",
       "    </tr>\n",
       "    <tr>\n",
       "      <th>4</th>\n",
       "      <td>Group II</td>\n",
       "      <td>0</td>\n",
       "      <td>4</td>\n",
       "      <td>6</td>\n",
       "      <td>10</td>\n",
       "      <td>0.80</td>\n",
       "    </tr>\n",
       "  </tbody>\n",
       "</table>\n",
       "</div>"
      ],
      "text/plain": [
       "      Group  N_bot  N_mid  N_top  N_tot   PI_\n",
       "0   Group I      0      1      9     10  0.95\n",
       "1   Group I      0      0     10     10  1.00\n",
       "2   Group I      0      2      8     10  0.90\n",
       "3   Group I      0      2      8     10  0.90\n",
       "4  Group II      0      4      6     10  0.80"
      ]
     },
     "execution_count": 5,
     "metadata": {},
     "output_type": "execute_result"
    }
   ],
   "source": [
    "## Calculation of Performance indeces\n",
    "df1['N_tot'] = (df1['N_top']+ df1['N_mid']+ df1['N_bot'])\n",
    "df1['PI_'] = 0.5 * ((df1['N_tot'] + df1['N_top'] - df1['N_bot'])/(df1['N_tot']))\n",
    "df1.head()"
   ]
  },
  {
   "cell_type": "code",
   "execution_count": 6,
   "id": "8e678071",
   "metadata": {},
   "outputs": [
    {
     "name": "stdout",
     "output_type": "stream",
     "text": [
      "\n",
      "\n"
     ]
    },
    {
     "data": {
      "text/html": [
       "<div>\n",
       "<style scoped>\n",
       "    .dataframe tbody tr th:only-of-type {\n",
       "        vertical-align: middle;\n",
       "    }\n",
       "\n",
       "    .dataframe tbody tr th {\n",
       "        vertical-align: top;\n",
       "    }\n",
       "\n",
       "    .dataframe thead th {\n",
       "        text-align: right;\n",
       "    }\n",
       "</style>\n",
       "<table border=\"1\" class=\"dataframe\">\n",
       "  <thead>\n",
       "    <tr style=\"text-align: right;\">\n",
       "      <th></th>\n",
       "      <th>N</th>\n",
       "      <th>Mean</th>\n",
       "      <th>SD</th>\n",
       "      <th>SE</th>\n",
       "      <th>95% Conf.</th>\n",
       "      <th>Interval</th>\n",
       "    </tr>\n",
       "    <tr>\n",
       "      <th>Group</th>\n",
       "      <th></th>\n",
       "      <th></th>\n",
       "      <th></th>\n",
       "      <th></th>\n",
       "      <th></th>\n",
       "      <th></th>\n",
       "    </tr>\n",
       "  </thead>\n",
       "  <tbody>\n",
       "    <tr>\n",
       "      <th>Group I</th>\n",
       "      <td>4</td>\n",
       "      <td>0.9375</td>\n",
       "      <td>0.0479</td>\n",
       "      <td>0.0239</td>\n",
       "      <td>0.8613</td>\n",
       "      <td>1.0137</td>\n",
       "    </tr>\n",
       "    <tr>\n",
       "      <th>Group II</th>\n",
       "      <td>5</td>\n",
       "      <td>0.7900</td>\n",
       "      <td>0.0418</td>\n",
       "      <td>0.0187</td>\n",
       "      <td>0.7381</td>\n",
       "      <td>0.8419</td>\n",
       "    </tr>\n",
       "    <tr>\n",
       "      <th>Group III</th>\n",
       "      <td>4</td>\n",
       "      <td>0.8625</td>\n",
       "      <td>0.0479</td>\n",
       "      <td>0.0239</td>\n",
       "      <td>0.7863</td>\n",
       "      <td>0.9387</td>\n",
       "    </tr>\n",
       "    <tr>\n",
       "      <th>Group IV</th>\n",
       "      <td>4</td>\n",
       "      <td>0.8875</td>\n",
       "      <td>0.0629</td>\n",
       "      <td>0.0315</td>\n",
       "      <td>0.7874</td>\n",
       "      <td>0.9876</td>\n",
       "    </tr>\n",
       "    <tr>\n",
       "      <th>Group V</th>\n",
       "      <td>5</td>\n",
       "      <td>0.8700</td>\n",
       "      <td>0.0758</td>\n",
       "      <td>0.0339</td>\n",
       "      <td>0.7758</td>\n",
       "      <td>0.9642</td>\n",
       "    </tr>\n",
       "  </tbody>\n",
       "</table>\n",
       "</div>"
      ],
      "text/plain": [
       "           N    Mean      SD      SE  95% Conf.  Interval\n",
       "Group                                                    \n",
       "Group I    4  0.9375  0.0479  0.0239     0.8613    1.0137\n",
       "Group II   5  0.7900  0.0418  0.0187     0.7381    0.8419\n",
       "Group III  4  0.8625  0.0479  0.0239     0.7863    0.9387\n",
       "Group IV   4  0.8875  0.0629  0.0315     0.7874    0.9876\n",
       "Group V    5  0.8700  0.0758  0.0339     0.7758    0.9642"
      ]
     },
     "execution_count": 6,
     "metadata": {},
     "output_type": "execute_result"
    }
   ],
   "source": [
    "##Descriptive Statistics for the performance index\n",
    "rp.summary_cont(df1['PI_'].groupby(df1['Group']))"
   ]
  },
  {
   "cell_type": "code",
   "execution_count": 8,
   "id": "cf0894a6",
   "metadata": {},
   "outputs": [
    {
     "data": {
      "image/png": "[encoded data removed]",
      "text/plain": [
       "<Figure size 500x400 with 1 Axes>"
      ]
     },
     "metadata": {},
     "output_type": "display_data"
    }
   ],
   "source": [
    "## Bar plot for the Negetive Geotaxis Assay\n",
    "sns.barplot(data=df1, y='PI_', x='Group',palette=['#8470FF'])\n",
    "sns.despine(trim=False,offset=5)\n",
    "plt.title('', weight='bold', fontsize=12)\n",
    "plt.ylim(0,1)\n",
    "plt.ylabel('Performance Index (AU)', weight='bold', fontsize=12)\n",
    "plt.xlabel('Groups', weight='bold', fontsize=12)\n",
    "plt.gca().set_xticklabels(['Control', 'Pb$^{2+}$\\nOnly','Pb$^{2+}$\\n+\\n2.5%NSO','Pb$^{2+}$\\n+\\n5%NSO','Pb$^{2+}$\\n+\\n10%NSO'])\n",
    "fig = plt.gcf()\n",
    "fig.set_size_inches(5,4)\n",
    "plt.savefig(\"PI_NGTA.PNG\", bbox_inches = 'tight', dpi=300)"
   ]
  },
  {
   "cell_type": "code",
   "execution_count": 9,
   "id": "a3b63023",
   "metadata": {},
   "outputs": [],
   "source": [
    "##Definition of function for shapiro wilk test for normality\n",
    "def shapiro_by_group(group):\n",
    "    shapiro_stat, shapiro_p = shapiro(group)\n",
    "    return shapiro_stat, shapiro_p"
   ]
  },
  {
   "cell_type": "code",
   "execution_count": 11,
   "id": "6360349b",
   "metadata": {},
   "outputs": [
    {
     "data": {
      "text/plain": [
       "Group\n",
       "Group I      (0.8633691072463989, 0.27245327830314636)\n",
       "Group II      (0.8810376524925232, 0.3140396773815155)\n",
       "Group III    (0.8633691072463989, 0.27245327830314636)\n",
       "Group IV      (0.8949451446533203, 0.4063870310783386)\n",
       "Group V       (0.9140781760215759, 0.4924813508987427)\n",
       "Name: PI_, dtype: object"
      ]
     },
     "execution_count": 11,
     "metadata": {},
     "output_type": "execute_result"
    }
   ],
   "source": [
    "## Normality test for the performance index\n",
    "shapiro_results_NGA = df1.groupby('Group')['PI_'].apply(shapiro_by_group)\n",
    "shapiro_results_NGA"
   ]
  },
  {
   "cell_type": "code",
   "execution_count": 12,
   "id": "23a9e45e",
   "metadata": {},
   "outputs": [
    {
     "data": {
      "text/html": [
       "<div>\n",
       "<style scoped>\n",
       "    .dataframe tbody tr th:only-of-type {\n",
       "        vertical-align: middle;\n",
       "    }\n",
       "\n",
       "    .dataframe tbody tr th {\n",
       "        vertical-align: top;\n",
       "    }\n",
       "\n",
       "    .dataframe thead th {\n",
       "        text-align: right;\n",
       "    }\n",
       "</style>\n",
       "<table border=\"1\" class=\"dataframe\">\n",
       "  <thead>\n",
       "    <tr style=\"text-align: right;\">\n",
       "      <th></th>\n",
       "      <th>Source</th>\n",
       "      <th>SS</th>\n",
       "      <th>DF</th>\n",
       "      <th>MS</th>\n",
       "      <th>F</th>\n",
       "      <th>p-unc</th>\n",
       "      <th>np2</th>\n",
       "    </tr>\n",
       "  </thead>\n",
       "  <tbody>\n",
       "    <tr>\n",
       "      <th>0</th>\n",
       "      <td>Group</td>\n",
       "      <td>0.051</td>\n",
       "      <td>4</td>\n",
       "      <td>0.013</td>\n",
       "      <td>3.92</td>\n",
       "      <td>0.02</td>\n",
       "      <td>0.48</td>\n",
       "    </tr>\n",
       "    <tr>\n",
       "      <th>1</th>\n",
       "      <td>Within</td>\n",
       "      <td>0.056</td>\n",
       "      <td>17</td>\n",
       "      <td>0.003</td>\n",
       "      <td>NaN</td>\n",
       "      <td>NaN</td>\n",
       "      <td>NaN</td>\n",
       "    </tr>\n",
       "  </tbody>\n",
       "</table>\n",
       "</div>"
      ],
      "text/plain": [
       "   Source     SS  DF     MS     F  p-unc   np2\n",
       "0   Group  0.051   4  0.013  3.92   0.02  0.48\n",
       "1  Within  0.056  17  0.003   NaN    NaN   NaN"
      ]
     },
     "execution_count": 12,
     "metadata": {},
     "output_type": "execute_result"
    }
   ],
   "source": [
    "## Oneway Anova for the negetive geotaxis Assay\n",
    "aov = pg.anova(dv='PI_', between='Group', data=df1,\n",
    "               detailed=True)\n",
    "aov.round(3)"
   ]
  },
  {
   "cell_type": "code",
   "execution_count": 14,
   "id": "ccf429a0",
   "metadata": {},
   "outputs": [
    {
     "data": {
      "text/html": [
       "<table class=\"simpletable\">\n",
       "<caption>Multiple Comparison of Means - Tukey HSD, FWER=0.05</caption>\n",
       "<tr>\n",
       "   <th>group1</th>    <th>group2</th>   <th>meandiff</th>  <th>p-adj</th>  <th>lower</th>   <th>upper</th>  <th>reject</th>\n",
       "</tr>\n",
       "<tr>\n",
       "   <td>Group I</td>  <td>Group II</td>   <td>-0.1475</td> <td>0.0099</td> <td>-0.2642</td> <td>-0.0308</td>  <td>True</td> \n",
       "</tr>\n",
       "<tr>\n",
       "   <td>Group I</td>  <td>Group III</td>  <td>-0.075</td>   <td>0.377</td> <td>-0.1981</td> <td>0.0481</td>   <td>False</td>\n",
       "</tr>\n",
       "<tr>\n",
       "   <td>Group I</td>  <td>Group IV</td>    <td>-0.05</td>  <td>0.7313</td> <td>-0.1731</td> <td>0.0731</td>   <td>False</td>\n",
       "</tr>\n",
       "<tr>\n",
       "   <td>Group I</td>   <td>Group V</td>   <td>-0.0675</td> <td>0.4271</td> <td>-0.1842</td> <td>0.0492</td>   <td>False</td>\n",
       "</tr>\n",
       "<tr>\n",
       "  <td>Group II</td>  <td>Group III</td>  <td>0.0725</td>  <td>0.3594</td> <td>-0.0442</td> <td>0.1892</td>   <td>False</td>\n",
       "</tr>\n",
       "<tr>\n",
       "  <td>Group II</td>  <td>Group IV</td>   <td>0.0975</td>  <td>0.1275</td> <td>-0.0192</td> <td>0.2142</td>   <td>False</td>\n",
       "</tr>\n",
       "<tr>\n",
       "  <td>Group II</td>   <td>Group V</td>    <td>0.08</td>   <td>0.2224</td> <td>-0.0301</td> <td>0.1901</td>   <td>False</td>\n",
       "</tr>\n",
       "<tr>\n",
       "  <td>Group III</td> <td>Group IV</td>    <td>0.025</td>  <td>0.9702</td> <td>-0.0981</td> <td>0.1481</td>   <td>False</td>\n",
       "</tr>\n",
       "<tr>\n",
       "  <td>Group III</td>  <td>Group V</td>   <td>0.0075</td>  <td>0.9996</td> <td>-0.1092</td> <td>0.1242</td>   <td>False</td>\n",
       "</tr>\n",
       "<tr>\n",
       "  <td>Group IV</td>   <td>Group V</td>   <td>-0.0175</td> <td>0.9903</td> <td>-0.1342</td> <td>0.0992</td>   <td>False</td>\n",
       "</tr>\n",
       "</table>"
      ],
      "text/latex": [
       "\\begin{center}\n",
       "\\begin{tabular}{ccccccc}\n",
       "\\toprule\n",
       "\\textbf{group1} & \\textbf{group2} & \\textbf{meandiff} & \\textbf{p-adj} & \\textbf{lower} & \\textbf{upper} & \\textbf{reject}  \\\\\n",
       "\\midrule\n",
       "    Group I     &     Group II    &      -0.1475      &     0.0099     &    -0.2642     &    -0.0308     &       True       \\\\\n",
       "    Group I     &    Group III    &       -0.075      &     0.377      &    -0.1981     &     0.0481     &      False       \\\\\n",
       "    Group I     &     Group IV    &       -0.05       &     0.7313     &    -0.1731     &     0.0731     &      False       \\\\\n",
       "    Group I     &     Group V     &      -0.0675      &     0.4271     &    -0.1842     &     0.0492     &      False       \\\\\n",
       "    Group II    &    Group III    &       0.0725      &     0.3594     &    -0.0442     &     0.1892     &      False       \\\\\n",
       "    Group II    &     Group IV    &       0.0975      &     0.1275     &    -0.0192     &     0.2142     &      False       \\\\\n",
       "    Group II    &     Group V     &        0.08       &     0.2224     &    -0.0301     &     0.1901     &      False       \\\\\n",
       "   Group III    &     Group IV    &       0.025       &     0.9702     &    -0.0981     &     0.1481     &      False       \\\\\n",
       "   Group III    &     Group V     &       0.0075      &     0.9996     &    -0.1092     &     0.1242     &      False       \\\\\n",
       "    Group IV    &     Group V     &      -0.0175      &     0.9903     &    -0.1342     &     0.0992     &      False       \\\\\n",
       "\\bottomrule\n",
       "\\end{tabular}\n",
       "%\\caption{Multiple Comparison of Means - Tukey HSD, FWER=0.05}\n",
       "\\end{center}"
      ],
      "text/plain": [
       "<class 'statsmodels.iolib.table.SimpleTable'>"
      ]
     },
     "execution_count": 14,
     "metadata": {},
     "output_type": "execute_result"
    }
   ],
   "source": [
    "## Turkey test(post hoc) \n",
    "comp = mc.MultiComparison(df1['PI_'], df1['Group'])\n",
    "post_hoc_res = comp.tukeyhsd()\n",
    "post_hoc_res.summary()"
   ]
  },
  {
   "cell_type": "code",
   "execution_count": null,
   "id": "a85a127d",
   "metadata": {},
   "outputs": [],
   "source": []
  }
 ],
 "metadata": {
  "kernelspec": {
   "display_name": "Python 3 (ipykernel)",
   "language": "python",
   "name": "python3"
  },
  "language_info": {
   "codemirror_mode": {
    "name": "ipython",
    "version": 3
   },
   "file_extension": ".py",
   "mimetype": "text/x-python",
   "name": "python",
   "nbconvert_exporter": "python",
   "pygments_lexer": "ipython3",
   "version": "3.11.4"
  }
 },
 "nbformat": 4,
 "nbformat_minor": 5
}
